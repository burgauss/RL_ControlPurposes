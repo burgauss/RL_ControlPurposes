{
  "nbformat": 4,
  "nbformat_minor": 0,
  "metadata": {
    "colab": {
      "name": "10062021_buju_OneQuadrantConverter.ipynb",
      "provenance": [],
      "collapsed_sections": [],
      "authorship_tag": "ABX9TyNgNbJs3VVJut6b4TPdpCtz",
      "include_colab_link": true
    },
    "kernelspec": {
      "name": "python3",
      "display_name": "Python 3"
    }
  },
  "cells": [
    {
      "cell_type": "markdown",
      "metadata": {
        "id": "view-in-github",
        "colab_type": "text"
      },
      "source": [
        "<a href=\"https://colab.research.google.com/github/burgauss/RL_ControlPurposes/blob/main/10062021_buju_OneQuadrantConverter.ipynb\" target=\"_parent\"><img src=\"https://colab.research.google.com/assets/colab-badge.svg\" alt=\"Open In Colab\"/></a>"
      ]
    },
    {
      "cell_type": "code",
      "metadata": {
        "id": "cEz0vfO--kw8",
        "colab": {
          "base_uri": "https://localhost:8080/"
        },
        "outputId": "15ac0c61-3f51-4932-e799-6fdf779565ac"
      },
      "source": [
        "pip install tf-agents"
      ],
      "execution_count": null,
      "outputs": [
        {
          "output_type": "stream",
          "text": [
            "Requirement already satisfied: tf-agents in /usr/local/lib/python3.7/dist-packages (0.8.0)\n",
            "Requirement already satisfied: tensorflow-probability==0.12.2 in /usr/local/lib/python3.7/dist-packages (from tf-agents) (0.12.2)\n",
            "Requirement already satisfied: cloudpickle>=1.3 in /usr/local/lib/python3.7/dist-packages (from tf-agents) (1.3.0)\n",
            "Requirement already satisfied: numpy>=1.13.3 in /usr/local/lib/python3.7/dist-packages (from tf-agents) (1.19.5)\n",
            "Requirement already satisfied: absl-py>=0.6.1 in /usr/local/lib/python3.7/dist-packages (from tf-agents) (0.12.0)\n",
            "Requirement already satisfied: protobuf>=3.11.3 in /usr/local/lib/python3.7/dist-packages (from tf-agents) (3.12.4)\n",
            "Requirement already satisfied: gym>=0.17.0 in /usr/local/lib/python3.7/dist-packages (from tf-agents) (0.17.3)\n",
            "Requirement already satisfied: six>=1.10.0 in /usr/local/lib/python3.7/dist-packages (from tf-agents) (1.15.0)\n",
            "Requirement already satisfied: wrapt>=1.11.1 in /usr/local/lib/python3.7/dist-packages (from tf-agents) (1.12.1)\n",
            "Requirement already satisfied: gin-config>=0.4.0 in /usr/local/lib/python3.7/dist-packages (from tf-agents) (0.4.0)\n",
            "Requirement already satisfied: typing-extensions>=3.7.4.3 in /usr/local/lib/python3.7/dist-packages (from tf-agents) (3.7.4.3)\n",
            "Requirement already satisfied: gast>=0.3.2 in /usr/local/lib/python3.7/dist-packages (from tensorflow-probability==0.12.2->tf-agents) (0.4.0)\n",
            "Requirement already satisfied: dm-tree in /usr/local/lib/python3.7/dist-packages (from tensorflow-probability==0.12.2->tf-agents) (0.1.6)\n",
            "Requirement already satisfied: decorator in /usr/local/lib/python3.7/dist-packages (from tensorflow-probability==0.12.2->tf-agents) (4.4.2)\n",
            "Requirement already satisfied: setuptools in /usr/local/lib/python3.7/dist-packages (from protobuf>=3.11.3->tf-agents) (57.0.0)\n",
            "Requirement already satisfied: scipy in /usr/local/lib/python3.7/dist-packages (from gym>=0.17.0->tf-agents) (1.4.1)\n",
            "Requirement already satisfied: pyglet<=1.5.0,>=1.4.0 in /usr/local/lib/python3.7/dist-packages (from gym>=0.17.0->tf-agents) (1.5.0)\n",
            "Requirement already satisfied: future in /usr/local/lib/python3.7/dist-packages (from pyglet<=1.5.0,>=1.4.0->gym>=0.17.0->tf-agents) (0.16.0)\n"
          ],
          "name": "stdout"
        }
      ]
    },
    {
      "cell_type": "code",
      "metadata": {
        "colab": {
          "base_uri": "https://localhost:8080/"
        },
        "id": "dZLv5YAkH-CK",
        "outputId": "04205609-8994-4a87-f059-2f27500dae77"
      },
      "source": [
        "pip install gym"
      ],
      "execution_count": null,
      "outputs": [
        {
          "output_type": "stream",
          "text": [
            "Requirement already satisfied: gym in /usr/local/lib/python3.7/dist-packages (0.17.3)\n",
            "Requirement already satisfied: cloudpickle<1.7.0,>=1.2.0 in /usr/local/lib/python3.7/dist-packages (from gym) (1.3.0)\n",
            "Requirement already satisfied: numpy>=1.10.4 in /usr/local/lib/python3.7/dist-packages (from gym) (1.19.5)\n",
            "Requirement already satisfied: scipy in /usr/local/lib/python3.7/dist-packages (from gym) (1.4.1)\n",
            "Requirement already satisfied: pyglet<=1.5.0,>=1.4.0 in /usr/local/lib/python3.7/dist-packages (from gym) (1.5.0)\n",
            "Requirement already satisfied: future in /usr/local/lib/python3.7/dist-packages (from pyglet<=1.5.0,>=1.4.0->gym) (0.16.0)\n"
          ],
          "name": "stdout"
        }
      ]
    },
    {
      "cell_type": "code",
      "metadata": {
        "id": "V7ok3mfM_6DX"
      },
      "source": [
        "from __future__ import absolute_import\n",
        "from __future__ import division\n",
        "from __future__ import print_function\n",
        "\n",
        "import tensorflow as tf\n",
        "import numpy as np\n",
        "\n",
        "from scipy import signal, misc\n",
        "import scipy.signal as signal\n",
        "\n",
        "import matplotlib\n",
        "import matplotlib.pyplot as plt\n",
        "\n",
        "from tf_agents.environments import py_environment\n",
        "from tf_agents.environments import tf_environment\n",
        "from tf_agents.environments import suite_gym\n",
        "from tf_agents.environments import tf_py_environment\n",
        "from tf_agents.environments import utils\n",
        "from tf_agents.specs import array_spec\n",
        "from tf_agents.environments import wrappers\n",
        "from tf_agents.environments import wrappers\n",
        "from tf_agents.trajectories import time_step as ts"
      ],
      "execution_count": null,
      "outputs": []
    },
    {
      "cell_type": "code",
      "metadata": {
        "id": "ptkgIjtfL5ZR"
      },
      "source": [
        "'''\n",
        "#creation of the pwm function\n",
        "def pwm(timeseries, ontime, offtime):\n",
        "  accum = 0.0\n",
        "  flag  = 1.0\n",
        "  y = np.zeros(timeseries.shape, dtype = np.float32)\n",
        "  #ipdb.set_trace()\n",
        "  for i in np.arange(timeseries.size):\n",
        "    if (i == 0 ):\n",
        "      accum = timeseries[0]\n",
        "    else:\n",
        "      accum = accum + timeseries[i.astype(int)] - timeseries[i.astype(int)-1]\n",
        "    \n",
        "    if (flag == 1):\n",
        "      y[i.astype(int)] = 1\n",
        "      if (accum >= ontime):\n",
        "        flag = 0\n",
        "        accum = 0\n",
        "\n",
        "    elif (flag == 0):\n",
        "      y[i.astype(int)] = 0\n",
        "      if (accum >= offtime):\n",
        "        flag = 1\n",
        "        accum = 0\n",
        "  \n",
        "  return y\n",
        "'''"
      ],
      "execution_count": null,
      "outputs": []
    },
    {
      "cell_type": "code",
      "metadata": {
        "id": "h6W-OGtAEPWD"
      },
      "source": [
        "# Debuggin Cell\n",
        "\n",
        "''' function defining the behaviour of our RL Circuit\n",
        "we will create a function which receives an action\n",
        "1 or 0, which refers to a switch, we will try with 100 points\n",
        "to see the output of the circuit  \n",
        "# Global Variables\n",
        "inductor = 10.0\n",
        "resistor = 50.0\n",
        "i = 0.0\n",
        "i_dot = 0.0\n",
        "voltageIn = 10.0\n",
        "voltageOut = []\n",
        "timeStep = 0.01\n",
        "\n",
        "def lr_circuit(act):\n",
        "  global i\n",
        "\n",
        "  if act == 1:\n",
        "    i_dot = voltageIn/inductor - (resistor* i)/inductor\n",
        "    i = i + timeStep * i_dot\n",
        "  elif act == 0:\n",
        "    i_dot = -(resistor*i)/inductor\n",
        "    i = i + timeStep * i_dot\n",
        "  else: \n",
        "    print(\"Wrong action parameter\")\n",
        "\n",
        "  return i \n",
        "'''"
      ],
      "execution_count": null,
      "outputs": []
    },
    {
      "cell_type": "code",
      "metadata": {
        "id": "gjmyCRj5HFLj"
      },
      "source": [
        "'''\n",
        "# Debuggin Cell 2\n",
        "# Time for the simulation\n",
        "t_init = 0\n",
        "t_max = 100\n",
        "\n",
        "while (t_init < t_max):\n",
        "  if t_init < 50:\n",
        "    current = lr_circuit(1)\n",
        "    voltageOut.append(current*resistor)\n",
        "  else:\n",
        "    current = lr_circuit(0)\n",
        "    voltageOut.append(current*resistor)\n",
        "  t_init += 1\n",
        "\n",
        "'''"
      ],
      "execution_count": null,
      "outputs": []
    },
    {
      "cell_type": "code",
      "metadata": {
        "colab": {
          "base_uri": "https://localhost:8080/",
          "height": 284
        },
        "id": "Z89EywNNJbCq",
        "outputId": "ebfa5311-1851-42e9-86b2-c0f36594cce3"
      },
      "source": [
        "'''\n",
        "#Debuggin Cell\n",
        "num_step = np.arange(0,100,1 )\n",
        "#print(len(num_step))\n",
        "plt.plot(num_step,voltageOut)\n",
        "'''"
      ],
      "execution_count": null,
      "outputs": [
        {
          "output_type": "execute_result",
          "data": {
            "text/plain": [
              "[<matplotlib.lines.Line2D at 0x7fdd361d36d0>]"
            ]
          },
          "metadata": {
            "tags": []
          },
          "execution_count": 7
        },
        {
          "output_type": "display_data",
          "data": {
            "image/png": "[encoded data removed]",
            "text/plain": [
              "<Figure size 432x288 with 1 Axes>"
            ]
          },
          "metadata": {
            "tags": [],
            "needs_background": "light"
          }
        }
      ]
    },
    {
      "cell_type": "markdown",
      "metadata": {
        "id": "2qoSpz1dLB1t"
      },
      "source": [
        ""
      ]
    },
    {
      "cell_type": "code",
      "metadata": {
        "colab": {
          "base_uri": "https://localhost:8080/"
        },
        "id": "L3gjrL_MSyZ9",
        "outputId": "b567e2b3-4a6c-40b8-baa0-a5302882ea44"
      },
      "source": [
        "'''\n",
        "#Debugging Cell\n",
        "# Verifying that returns take you out of the if\n",
        "\n",
        "def verif_return(action, go_out):\n",
        "  if go_out == 1:\n",
        "    return 10\n",
        "  \n",
        "  if action == 1:\n",
        "    print(\"I have an action of 1\")\n",
        "  else:\n",
        "    print(\"I have an action of 0\")\n",
        "  return 0\n",
        "\n",
        "action = 0\n",
        "go_out = 1\n",
        "\n",
        "z = verif_return(action,go_out)\n",
        "print(z)\n",
        "\n",
        "#indeed makes you out of the loop\n",
        "'''"
      ],
      "execution_count": null,
      "outputs": [
        {
          "output_type": "stream",
          "text": [
            "10\n"
          ],
          "name": "stdout"
        }
      ]
    },
    {
      "cell_type": "code",
      "metadata": {
        "id": "KhHpFDZDWQNn"
      },
      "source": [
        "'''\n",
        "# Debuggin Cell\n",
        "# Veryging Assert\n",
        "action = 5\n",
        "err_msg = \"%r (%s) invalid\" % (action, type(action))\n",
        "assert action == 6 or action ==4, err_msg\n",
        "# The error indicates that works\n",
        "'''"
      ],
      "execution_count": null,
      "outputs": []
    },
    {
      "cell_type": "code",
      "metadata": {
        "colab": {
          "base_uri": "https://localhost:8080/"
        },
        "id": "z466YGicbNiL",
        "outputId": "6a7ab514-3d6e-479e-e135-a8e990ad12f8"
      },
      "source": [
        "'''\n",
        "#Debugging Cell\n",
        "# Condition if not evaluation\n",
        "val = 10\n",
        "max_val = 12\n",
        "evaluator = bool(val > max_val)\n",
        "print(\"evaluator is %r\" % (evaluator))\n",
        "if not evaluator:\n",
        "  print(\"Ich bin drin\")\n",
        "'''"
      ],
      "execution_count": null,
      "outputs": [
        {
          "output_type": "stream",
          "text": [
            "evaluator is False\n",
            "Ich bin drin\n"
          ],
          "name": "stdout"
        }
      ]
    },
    {
      "cell_type": "code",
      "metadata": {
        "id": "GLGtflLTHrnk"
      },
      "source": [
        "# Environment Creationg using Gym Libraries\n",
        "import math\n",
        "import gym\n",
        "from gym import spaces, logger\n",
        "from gym.utils import seeding\n",
        "import numpy as np\n",
        "\n",
        "class OneQuadrant(gym.Env):\n",
        "  \"\"\"\n",
        "  Description:\n",
        "    The following environment represents a LR circuit with \n",
        "    a control switch.\n",
        "    The system always starts with the Inductor Not charge\n",
        "    The goal is to keep the charge at the output in a specific\n",
        "    value, by open or closing the switch, i.e., by controlling\n",
        "    the charge in the inductor\n",
        "\n",
        "  Observation:\n",
        "    Type: Box(1)\n",
        "    Num   Observation             Min   Max\n",
        "    0     Voltage at the output   0     10\n",
        "\n",
        "  Actions:\n",
        "    Type: Discrete (2)\n",
        "    Num     Action\n",
        "    0       Open the Switch\n",
        "    1       Close the Switch\n",
        "\n",
        "  Reward:\n",
        "    The reward will be calculated according the difference \n",
        "    between the reference value and the actual observation\n",
        "    Maximun reward available is 1, worst reward availables are 0.5\n",
        "    reward = 1 - abs(self.referenceVal - self.voltageOut)/self.voltageIn\n",
        "\n",
        "  Starting State:\n",
        "    Always start with Voltage 0\n",
        "\n",
        "  Episode Termination:\n",
        "    Episode Length is greater than 100\n",
        "\n",
        "  \"\"\"\n",
        "\n",
        "  def __init__(self):\n",
        "    self.inductor = 10.0\n",
        "    self.resistor = 50.0\n",
        "    self.voltageIn = 10.0\n",
        "    self.voltageOut = 0.0\n",
        "    #self.tau = self.inductor/self.resistor\n",
        "    self.timeStep = 0.04\n",
        "    self.i = 0.0\n",
        "    self.i_dot = 0.0\n",
        "    self.referenceVal = 5.0 # Desired Value\n",
        "\n",
        "    self.action_space = spaces.Discrete(2)\n",
        "\n",
        "    #Limits of the observation space\n",
        "    VMAX = 10.0\n",
        "    VMIN = 0.0\n",
        "\n",
        "    self.observation_space = spaces.Box(VMIN, VMAX, dtype = np.float32)\n",
        "\n",
        "    #Seed for random seed\n",
        "    self.seed()   \n",
        "\n",
        "    self._state = 0.0\n",
        "    self._episode_ended = False\n",
        "    self.steps_episode = 0 \n",
        "\n",
        "  def seed(self, seed=None):\n",
        "    self.np_random, seed = seeding.np_random(seed)\n",
        "    return [seed]\n",
        "\n",
        "  def step(self, action):\n",
        "\n",
        "    # Verifying that the action is valid\n",
        "    err_msg = \"%r (%s) invalid\" % (action, type(action))\n",
        "    assert self.action_space.contains(action), err_msg\n",
        "  \n",
        "    if self._episode_ended:\n",
        "      # Ignore the current action and start a new episode\n",
        "      return self.reset()\n",
        "\n",
        "    #Equation / modelling of the system\n",
        "    if action == 1:\n",
        "      self.i_dot = self.voltageIn/self.inductor - (self.resistor/self.inductor)*self.i\n",
        "      #using integration euler procedure\n",
        "      self.i +=  self.timeStep * self.i_dot\n",
        "      self.voltageOut = self.i * self.resistor\n",
        "      self._state = self.voltageOut\n",
        "    elif action == 0:\n",
        "      self.i_dot = -(self.resistor/self.inductor)*self.i\n",
        "      self.i += self.timeStep * self.i_dot\n",
        "      self.voltageOut = self.i * self.resistor\n",
        "      self._state = self.voltageOut\n",
        "    else:\n",
        "      raise ValueError('action should be 0 or 1')\n",
        "\n",
        "    # Reward definition\n",
        "    # R = 1 - abs(w - y)/maxVal\n",
        "    reward = 1 - abs(self.referenceVal - self.voltageOut)/self.voltageIn\n",
        "    # count steps in the episode\n",
        "    self.steps_episode += 1\n",
        "\n",
        "    # Evaluation for episode ending\n",
        "    if self.steps_episode > 100:\n",
        "      self._episode_ended = True\n",
        "  \n",
        "    return self._state, reward, self._episode_ended, {}\n",
        "\n",
        "  def _reset(self):\n",
        "    self._state = 0.0\n",
        "    self._episode_ended = False\n",
        "    self.i = 0.0\n",
        "    self.i_dot = 0.0\n",
        "    self.steps_episode = 0\n",
        "\n",
        "    return self._state\n",
        "    \n",
        "   \n",
        "    "
      ],
      "execution_count": null,
      "outputs": []
    },
    {
      "cell_type": "code",
      "metadata": {
        "colab": {
          "base_uri": "https://localhost:8080/",
          "height": 347
        },
        "id": "Ffw23pG8WxUz",
        "outputId": "1d08258c-8cdd-419f-bb67-074c6d738317"
      },
      "source": [
        "#env = suite_gym.load(OneQuadrant)"
      ],
      "execution_count": null,
      "outputs": [
        {
          "output_type": "error",
          "ename": "TypeError",
          "evalue": "ignored",
          "traceback": [
            "\u001b[0;31m---------------------------------------------------------------------------\u001b[0m",
            "\u001b[0;31mTypeError\u001b[0m                                 Traceback (most recent call last)",
            "\u001b[0;32m<ipython-input-18-7398018092ab>\u001b[0m in \u001b[0;36m<module>\u001b[0;34m()\u001b[0m\n\u001b[0;32m----> 1\u001b[0;31m \u001b[0menv\u001b[0m \u001b[0;34m=\u001b[0m \u001b[0msuite_gym\u001b[0m\u001b[0;34m.\u001b[0m\u001b[0mload\u001b[0m\u001b[0;34m(\u001b[0m\u001b[0mOneQuadrant\u001b[0m\u001b[0;34m)\u001b[0m\u001b[0;34m\u001b[0m\u001b[0;34m\u001b[0m\u001b[0m\n\u001b[0m",
            "\u001b[0;32m/usr/local/lib/python3.7/dist-packages/gin/config.py\u001b[0m in \u001b[0;36mgin_wrapper\u001b[0;34m(*args, **kwargs)\u001b[0m\n\u001b[1;32m   1067\u001b[0m       \u001b[0mscope_info\u001b[0m \u001b[0;34m=\u001b[0m \u001b[0;34m\" in scope '{}'\"\u001b[0m\u001b[0;34m.\u001b[0m\u001b[0mformat\u001b[0m\u001b[0;34m(\u001b[0m\u001b[0mscope_str\u001b[0m\u001b[0;34m)\u001b[0m \u001b[0;32mif\u001b[0m \u001b[0mscope_str\u001b[0m \u001b[0;32melse\u001b[0m \u001b[0;34m''\u001b[0m\u001b[0;34m\u001b[0m\u001b[0;34m\u001b[0m\u001b[0m\n\u001b[1;32m   1068\u001b[0m       \u001b[0merr_str\u001b[0m \u001b[0;34m=\u001b[0m \u001b[0merr_str\u001b[0m\u001b[0;34m.\u001b[0m\u001b[0mformat\u001b[0m\u001b[0;34m(\u001b[0m\u001b[0mname\u001b[0m\u001b[0;34m,\u001b[0m \u001b[0mfn_or_cls\u001b[0m\u001b[0;34m,\u001b[0m \u001b[0mscope_info\u001b[0m\u001b[0;34m)\u001b[0m\u001b[0;34m\u001b[0m\u001b[0;34m\u001b[0m\u001b[0m\n\u001b[0;32m-> 1069\u001b[0;31m       \u001b[0mutils\u001b[0m\u001b[0;34m.\u001b[0m\u001b[0maugment_exception_message_and_reraise\u001b[0m\u001b[0;34m(\u001b[0m\u001b[0me\u001b[0m\u001b[0;34m,\u001b[0m \u001b[0merr_str\u001b[0m\u001b[0;34m)\u001b[0m\u001b[0;34m\u001b[0m\u001b[0;34m\u001b[0m\u001b[0m\n\u001b[0m\u001b[1;32m   1070\u001b[0m \u001b[0;34m\u001b[0m\u001b[0m\n\u001b[1;32m   1071\u001b[0m   \u001b[0;32mreturn\u001b[0m \u001b[0mgin_wrapper\u001b[0m\u001b[0;34m\u001b[0m\u001b[0;34m\u001b[0m\u001b[0m\n",
            "\u001b[0;32m/usr/local/lib/python3.7/dist-packages/gin/utils.py\u001b[0m in \u001b[0;36maugment_exception_message_and_reraise\u001b[0;34m(exception, message)\u001b[0m\n\u001b[1;32m     39\u001b[0m   \u001b[0mproxy\u001b[0m \u001b[0;34m=\u001b[0m \u001b[0mExceptionProxy\u001b[0m\u001b[0;34m(\u001b[0m\u001b[0;34m)\u001b[0m\u001b[0;34m\u001b[0m\u001b[0;34m\u001b[0m\u001b[0m\n\u001b[1;32m     40\u001b[0m   \u001b[0mExceptionProxy\u001b[0m\u001b[0;34m.\u001b[0m\u001b[0m__qualname__\u001b[0m \u001b[0;34m=\u001b[0m \u001b[0mtype\u001b[0m\u001b[0;34m(\u001b[0m\u001b[0mexception\u001b[0m\u001b[0;34m)\u001b[0m\u001b[0;34m.\u001b[0m\u001b[0m__qualname__\u001b[0m\u001b[0;34m\u001b[0m\u001b[0;34m\u001b[0m\u001b[0m\n\u001b[0;32m---> 41\u001b[0;31m   \u001b[0;32mraise\u001b[0m \u001b[0mproxy\u001b[0m\u001b[0;34m.\u001b[0m\u001b[0mwith_traceback\u001b[0m\u001b[0;34m(\u001b[0m\u001b[0mexception\u001b[0m\u001b[0;34m.\u001b[0m\u001b[0m__traceback__\u001b[0m\u001b[0;34m)\u001b[0m \u001b[0;32mfrom\u001b[0m \u001b[0;32mNone\u001b[0m\u001b[0;34m\u001b[0m\u001b[0;34m\u001b[0m\u001b[0m\n\u001b[0m\u001b[1;32m     42\u001b[0m \u001b[0;34m\u001b[0m\u001b[0m\n\u001b[1;32m     43\u001b[0m \u001b[0;34m\u001b[0m\u001b[0m\n",
            "\u001b[0;32m/usr/local/lib/python3.7/dist-packages/gin/config.py\u001b[0m in \u001b[0;36mgin_wrapper\u001b[0;34m(*args, **kwargs)\u001b[0m\n\u001b[1;32m   1044\u001b[0m \u001b[0;34m\u001b[0m\u001b[0m\n\u001b[1;32m   1045\u001b[0m     \u001b[0;32mtry\u001b[0m\u001b[0;34m:\u001b[0m\u001b[0;34m\u001b[0m\u001b[0;34m\u001b[0m\u001b[0m\n\u001b[0;32m-> 1046\u001b[0;31m       \u001b[0;32mreturn\u001b[0m \u001b[0mfn\u001b[0m\u001b[0;34m(\u001b[0m\u001b[0;34m*\u001b[0m\u001b[0mnew_args\u001b[0m\u001b[0;34m,\u001b[0m \u001b[0;34m**\u001b[0m\u001b[0mnew_kwargs\u001b[0m\u001b[0;34m)\u001b[0m\u001b[0;34m\u001b[0m\u001b[0;34m\u001b[0m\u001b[0m\n\u001b[0m\u001b[1;32m   1047\u001b[0m     \u001b[0;32mexcept\u001b[0m \u001b[0mException\u001b[0m \u001b[0;32mas\u001b[0m \u001b[0me\u001b[0m\u001b[0;34m:\u001b[0m  \u001b[0;31m# pylint: disable=broad-except\u001b[0m\u001b[0;34m\u001b[0m\u001b[0;34m\u001b[0m\u001b[0m\n\u001b[1;32m   1048\u001b[0m       \u001b[0merr_str\u001b[0m \u001b[0;34m=\u001b[0m \u001b[0;34m''\u001b[0m\u001b[0;34m\u001b[0m\u001b[0;34m\u001b[0m\u001b[0m\n",
            "\u001b[0;32m/usr/local/lib/python3.7/dist-packages/tf_agents/environments/suite_gym.py\u001b[0m in \u001b[0;36mload\u001b[0;34m(environment_name, discount, max_episode_steps, gym_env_wrappers, env_wrappers, spec_dtype_map, gym_kwargs, render_kwargs)\u001b[0m\n\u001b[1;32m     82\u001b[0m   \"\"\"\n\u001b[1;32m     83\u001b[0m   \u001b[0mgym_kwargs\u001b[0m \u001b[0;34m=\u001b[0m \u001b[0mgym_kwargs\u001b[0m \u001b[0;32mif\u001b[0m \u001b[0mgym_kwargs\u001b[0m \u001b[0;32melse\u001b[0m \u001b[0;34m{\u001b[0m\u001b[0;34m}\u001b[0m\u001b[0;34m\u001b[0m\u001b[0;34m\u001b[0m\u001b[0m\n\u001b[0;32m---> 84\u001b[0;31m   \u001b[0mgym_spec\u001b[0m \u001b[0;34m=\u001b[0m \u001b[0mgym\u001b[0m\u001b[0;34m.\u001b[0m\u001b[0mspec\u001b[0m\u001b[0;34m(\u001b[0m\u001b[0menvironment_name\u001b[0m\u001b[0;34m)\u001b[0m\u001b[0;34m\u001b[0m\u001b[0;34m\u001b[0m\u001b[0m\n\u001b[0m\u001b[1;32m     85\u001b[0m   \u001b[0mgym_env\u001b[0m \u001b[0;34m=\u001b[0m \u001b[0mgym_spec\u001b[0m\u001b[0;34m.\u001b[0m\u001b[0mmake\u001b[0m\u001b[0;34m(\u001b[0m\u001b[0;34m**\u001b[0m\u001b[0mgym_kwargs\u001b[0m\u001b[0;34m)\u001b[0m\u001b[0;34m\u001b[0m\u001b[0;34m\u001b[0m\u001b[0m\n\u001b[1;32m     86\u001b[0m \u001b[0;34m\u001b[0m\u001b[0m\n",
            "\u001b[0;32m/usr/local/lib/python3.7/dist-packages/gym/envs/registration.py\u001b[0m in \u001b[0;36mspec\u001b[0;34m(id)\u001b[0m\n\u001b[1;32m    146\u001b[0m \u001b[0;34m\u001b[0m\u001b[0m\n\u001b[1;32m    147\u001b[0m \u001b[0;32mdef\u001b[0m \u001b[0mspec\u001b[0m\u001b[0;34m(\u001b[0m\u001b[0mid\u001b[0m\u001b[0;34m)\u001b[0m\u001b[0;34m:\u001b[0m\u001b[0;34m\u001b[0m\u001b[0;34m\u001b[0m\u001b[0m\n\u001b[0;32m--> 148\u001b[0;31m     \u001b[0;32mreturn\u001b[0m \u001b[0mregistry\u001b[0m\u001b[0;34m.\u001b[0m\u001b[0mspec\u001b[0m\u001b[0;34m(\u001b[0m\u001b[0mid\u001b[0m\u001b[0;34m)\u001b[0m\u001b[0;34m\u001b[0m\u001b[0;34m\u001b[0m\u001b[0m\n\u001b[0m\u001b[1;32m    149\u001b[0m \u001b[0;34m\u001b[0m\u001b[0m\n\u001b[1;32m    150\u001b[0m \u001b[0mwarn_once\u001b[0m \u001b[0;34m=\u001b[0m \u001b[0;32mTrue\u001b[0m\u001b[0;34m\u001b[0m\u001b[0;34m\u001b[0m\u001b[0m\n",
            "\u001b[0;32m/usr/local/lib/python3.7/dist-packages/gym/envs/registration.py\u001b[0m in \u001b[0;36mspec\u001b[0;34m(self, path)\u001b[0m\n\u001b[1;32m    104\u001b[0m \u001b[0;34m\u001b[0m\u001b[0m\n\u001b[1;32m    105\u001b[0m     \u001b[0;32mdef\u001b[0m \u001b[0mspec\u001b[0m\u001b[0;34m(\u001b[0m\u001b[0mself\u001b[0m\u001b[0;34m,\u001b[0m \u001b[0mpath\u001b[0m\u001b[0;34m)\u001b[0m\u001b[0;34m:\u001b[0m\u001b[0;34m\u001b[0m\u001b[0;34m\u001b[0m\u001b[0m\n\u001b[0;32m--> 106\u001b[0;31m         \u001b[0;32mif\u001b[0m \u001b[0;34m':'\u001b[0m \u001b[0;32min\u001b[0m \u001b[0mpath\u001b[0m\u001b[0;34m:\u001b[0m\u001b[0;34m\u001b[0m\u001b[0;34m\u001b[0m\u001b[0m\n\u001b[0m\u001b[1;32m    107\u001b[0m             \u001b[0mmod_name\u001b[0m\u001b[0;34m,\u001b[0m \u001b[0m_sep\u001b[0m\u001b[0;34m,\u001b[0m \u001b[0mid\u001b[0m \u001b[0;34m=\u001b[0m \u001b[0mpath\u001b[0m\u001b[0;34m.\u001b[0m\u001b[0mpartition\u001b[0m\u001b[0;34m(\u001b[0m\u001b[0;34m':'\u001b[0m\u001b[0;34m)\u001b[0m\u001b[0;34m\u001b[0m\u001b[0;34m\u001b[0m\u001b[0m\n\u001b[1;32m    108\u001b[0m             \u001b[0;32mtry\u001b[0m\u001b[0;34m:\u001b[0m\u001b[0;34m\u001b[0m\u001b[0;34m\u001b[0m\u001b[0m\n",
            "\u001b[0;31mTypeError\u001b[0m: argument of type 'type' is not iterable\n  In call to configurable 'load' (<function load at 0x7fc0cc9d4440>)"
          ]
        }
      ]
    },
    {
      "cell_type": "markdown",
      "metadata": {
        "id": "HZ-iRtbOVBHu"
      },
      "source": [
        "#Line of Separation of environments"
      ]
    },
    {
      "cell_type": "code",
      "metadata": {
        "id": "nc5reMIaAjNg"
      },
      "source": [
        "#Environment Creation\n",
        "import math\n",
        "class OneQuadrant(py_environment.PyEnvironment):\n",
        "  def __init__(self):\n",
        "    self.inductor = 10.0\n",
        "    self.resistor = 50.0\n",
        "    self.voltageIn = 10.0\n",
        "    self.voltageOut = 0.0\n",
        "    #self.tau = self.inductor/self.resistor\n",
        "    self.timeStep = 0.04\n",
        "    self.i = 0.0\n",
        "    self.i_dot = 0.0\n",
        "    self.referenceVal = 5.0\n",
        "\n",
        "    # Function regarding the specs of our Environment\n",
        "    self._action_spec = array_spec.BoundedArraySpec(\n",
        "        shape=(), dtype=np.int32, minimum = 0, maximum = 1, name='action'\n",
        "    )\n",
        "    self._observation_spec = array_spec.BoundedArraySpec(\n",
        "        shape=(1,), dtype=np.float32, minimum = 0, name = 'observation'\n",
        "    )\n",
        "\n",
        "    self._state = 0.0\n",
        "    self._episode_ended = False\n",
        "    self.steps_episode = 0\n",
        "\n",
        "  def action_spec(self):\n",
        "    return self._action_spec\n",
        "\n",
        "  def observation_spec(self):\n",
        "    return self._observation_spec\n",
        "\n",
        "  def _reset(self):\n",
        "    self._state = 0.0\n",
        "    self._episode_ended = False\n",
        "    self.i = 0.0\n",
        "    self.i_dot = 0.0\n",
        "    self.steps_episode = 0\n",
        "\n",
        "    # from trajectories, put the vector to 0\n",
        "    return ts.restart(np.array([self._state], dtype=np.float32))\n",
        "\n",
        "  def _step(self, action):\n",
        "    # Verifying that the action is valid\n",
        "    err_msg = \"%r (%s) invalid\" % (action, type(action))\n",
        "    assert action == 0 or action == 1, err_msg\n",
        "  \n",
        "    if self._episode_ended:\n",
        "      # Ignore the current action and start a new episode\n",
        "      return self.reset()\n",
        "\n",
        "    #Equation / modelling of the system\n",
        "    if action == 1:\n",
        "      self.i_dot = self.voltageIn/self.inductor - (self.resistor/self.inductor)*self.i\n",
        "      #using integration euler procedure\n",
        "      self.i +=  self.timeStep * self.i_dot\n",
        "      self.voltageOut = self.i * self.resistor\n",
        "      self._state = self.voltageOut\n",
        "    elif action == 0:\n",
        "      self.i_dot = -(self.resistor/self.inductor)*self.i\n",
        "      self.i += self.timeStep * self.i_dot\n",
        "      self.voltageOut = self.i * self.resistor\n",
        "      self._state = self.voltageOut\n",
        "    else:\n",
        "      raise ValueError('action should be 0 or 1')\n",
        "   \n",
        "    '''\n",
        "    #we declare done to get out of loop\n",
        "    correct_space = bool(\n",
        "      self.voltageOut < self.v_threshold and\n",
        "      self.voltageOut > self.v_thresholdNeg\n",
        "    )\n",
        "    # if we are not in the correct zone,\n",
        "    if not correct_space:\n",
        "      reward = -1.0\n",
        "    elif correct_space: # if we ar ein the correct zone\n",
        "      reward = 0.0\n",
        "    ''' \n",
        "    # Reward definition\n",
        "    # R = 1 - abs(w - y)/maxVal\n",
        "    reward = 1 - abs(self.referenceVal - self.voltageOut)/self.voltageIn\n",
        "    # count steps in the episode\n",
        "    self.steps_episode += 1\n",
        "\n",
        "    # Evaluation for episode ending\n",
        "    if self.steps_episode > 100:\n",
        "      self._episode_ended = True\n",
        "      \n",
        "    if not self._episode_ended:\n",
        "      return ts.transition(np.array([self._state], dtype=np.float32), reward, discount=1)\n",
        "    else:\n",
        "      return ts.termination(np.array([self._state], dtype=np.float32), reward)\n",
        "      "
      ],
      "execution_count": null,
      "outputs": []
    },
    {
      "cell_type": "code",
      "metadata": {
        "id": "KIWCteNFP14c",
        "colab": {
          "base_uri": "https://localhost:8080/"
        },
        "outputId": "0a84e086-397f-4a6e-824e-84a6adaa0e58"
      },
      "source": [
        "'''\n",
        "# Initialization of the environment\n",
        "environment = OneQuadrant()\n",
        "print('action_spec: ', environment.action_spec())\n",
        "print('time_step_spec.observation:', environment.time_step_spec().observation)\n",
        "print('time_step_spec.step_type: ', environment.time_step_spec())\n",
        "'''"
      ],
      "execution_count": null,
      "outputs": [
        {
          "output_type": "stream",
          "text": [
            "action_spec:  BoundedArraySpec(shape=(), dtype=dtype('int32'), name='action', minimum=0, maximum=1)\n",
            "time_step_spec.observation: BoundedArraySpec(shape=(1,), dtype=dtype('float32'), name='observation', minimum=0.0, maximum=3.4028234663852886e+38)\n",
            "time_step_spec.step_type:  TimeStep(\n",
            "{'discount': BoundedArraySpec(shape=(), dtype=dtype('float32'), name='discount', minimum=0.0, maximum=1.0),\n",
            " 'observation': BoundedArraySpec(shape=(1,), dtype=dtype('float32'), name='observation', minimum=0.0, maximum=3.4028234663852886e+38),\n",
            " 'reward': ArraySpec(shape=(), dtype=dtype('float32'), name='reward'),\n",
            " 'step_type': ArraySpec(shape=(), dtype=dtype('int32'), name='step_type')})\n"
          ],
          "name": "stdout"
        }
      ]
    },
    {
      "cell_type": "code",
      "metadata": {
        "id": "smRSc9_dHbX_"
      },
      "source": [
        "'''\n",
        "open_switch_action = np.array(0, dtype = np.int32)\n",
        "close_switch_action = np.array(1, dtype = np.int32)\n",
        "'''"
      ],
      "execution_count": null,
      "outputs": []
    },
    {
      "cell_type": "code",
      "metadata": {
        "colab": {
          "base_uri": "https://localhost:8080/"
        },
        "id": "_xIPNVvpj9RZ",
        "outputId": "141a4239-b136-4723-e101-84460a58d814"
      },
      "source": [
        "'''\n",
        "# Test for only one step with close_switch_action\n",
        "time_step = environment.reset()\n",
        "print(time_step)\n",
        "# expected observation in 0, with reward of 0, because\n",
        "# Simulation has not startet\n",
        "'''"
      ],
      "execution_count": null,
      "outputs": [
        {
          "output_type": "stream",
          "text": [
            "TimeStep(\n",
            "{'discount': array(1., dtype=float32),\n",
            " 'observation': array([0.], dtype=float32),\n",
            " 'reward': array(0., dtype=float32),\n",
            " 'step_type': array(0, dtype=int32)})\n"
          ],
          "name": "stdout"
        }
      ]
    },
    {
      "cell_type": "code",
      "metadata": {
        "colab": {
          "base_uri": "https://localhost:8080/"
        },
        "id": "TpLKfx93kGsK",
        "outputId": "62175a8f-03dd-46ba-cf7e-e625b88dc629"
      },
      "source": [
        "'''\n",
        "#debugging cell to test 2 more evaluations\n",
        "time_step = environment.step(close_switch_action)\n",
        "print(time_step)\n",
        "time_step = environment.step(close_switch_action)\n",
        "print(time_step)\n",
        "'''"
      ],
      "execution_count": null,
      "outputs": [
        {
          "output_type": "stream",
          "text": [
            "TimeStep(\n",
            "{'discount': array(1., dtype=float32),\n",
            " 'observation': array([2.], dtype=float32),\n",
            " 'reward': array(0.7, dtype=float32),\n",
            " 'step_type': array(1, dtype=int32)})\n",
            "TimeStep(\n",
            "{'discount': array(1., dtype=float32),\n",
            " 'observation': array([3.6], dtype=float32),\n",
            " 'reward': array(0.86, dtype=float32),\n",
            " 'step_type': array(1, dtype=int32)})\n"
          ],
          "name": "stdout"
        }
      ]
    },
    {
      "cell_type": "code",
      "metadata": {
        "id": "9m7V0pAuiCsC",
        "colab": {
          "base_uri": "https://localhost:8080/"
        },
        "outputId": "681cba07-4e87-4be4-d1d4-6d865f45a488"
      },
      "source": [
        "'''\n",
        "# Test for steps\n",
        "time_step = environment.reset() # initialize the environment\n",
        "print(time_step)\n",
        "for _ in range(10):\n",
        "  time_step = environment.step(close_switch_action)\n",
        "  print(time_step)\n",
        "'''"
      ],
      "execution_count": null,
      "outputs": [
        {
          "output_type": "stream",
          "text": [
            "TimeStep(\n",
            "{'discount': array(1., dtype=float32),\n",
            " 'observation': array([0.], dtype=float32),\n",
            " 'reward': array(0., dtype=float32),\n",
            " 'step_type': array(0, dtype=int32)})\n",
            "TimeStep(\n",
            "{'discount': array(1., dtype=float32),\n",
            " 'observation': array([2.], dtype=float32),\n",
            " 'reward': array(0.7, dtype=float32),\n",
            " 'step_type': array(1, dtype=int32)})\n",
            "TimeStep(\n",
            "{'discount': array(1., dtype=float32),\n",
            " 'observation': array([3.6], dtype=float32),\n",
            " 'reward': array(0.86, dtype=float32),\n",
            " 'step_type': array(1, dtype=int32)})\n",
            "TimeStep(\n",
            "{'discount': array(1., dtype=float32),\n",
            " 'observation': array([4.88], dtype=float32),\n",
            " 'reward': array(0.988, dtype=float32),\n",
            " 'step_type': array(1, dtype=int32)})\n",
            "TimeStep(\n",
            "{'discount': array(1., dtype=float32),\n",
            " 'observation': array([5.904], dtype=float32),\n",
            " 'reward': array(0.9096, dtype=float32),\n",
            " 'step_type': array(1, dtype=int32)})\n",
            "TimeStep(\n",
            "{'discount': array(1., dtype=float32),\n",
            " 'observation': array([6.7232], dtype=float32),\n",
            " 'reward': array(0.82768, dtype=float32),\n",
            " 'step_type': array(1, dtype=int32)})\n",
            "TimeStep(\n",
            "{'discount': array(1., dtype=float32),\n",
            " 'observation': array([7.37856], dtype=float32),\n",
            " 'reward': array(0.762144, dtype=float32),\n",
            " 'step_type': array(1, dtype=int32)})\n",
            "TimeStep(\n",
            "{'discount': array(1., dtype=float32),\n",
            " 'observation': array([7.902848], dtype=float32),\n",
            " 'reward': array(0.7097152, dtype=float32),\n",
            " 'step_type': array(1, dtype=int32)})\n",
            "TimeStep(\n",
            "{'discount': array(1., dtype=float32),\n",
            " 'observation': array([8.322278], dtype=float32),\n",
            " 'reward': array(0.6677722, dtype=float32),\n",
            " 'step_type': array(1, dtype=int32)})\n",
            "TimeStep(\n",
            "{'discount': array(1., dtype=float32),\n",
            " 'observation': array([8.657823], dtype=float32),\n",
            " 'reward': array(0.63421774, dtype=float32),\n",
            " 'step_type': array(1, dtype=int32)})\n",
            "TimeStep(\n",
            "{'discount': array(1., dtype=float32),\n",
            " 'observation': array([8.926258], dtype=float32),\n",
            " 'reward': array(0.6073742, dtype=float32),\n",
            " 'step_type': array(1, dtype=int32)})\n"
          ],
          "name": "stdout"
        }
      ]
    },
    {
      "cell_type": "code",
      "metadata": {
        "id": "qP3u-2pcuUP3"
      },
      "source": [
        "'''\n",
        "# Test with while is last\n",
        "time_step = environment.reset() # initialize the environment\n",
        "print(time_step)\n",
        "while not time_step.is_last():\n",
        "  time_step = environment.step(close_switch_action)\n",
        "  print(time_step)\n",
        "\n",
        "'''"
      ],
      "execution_count": null,
      "outputs": []
    },
    {
      "cell_type": "code",
      "metadata": {
        "id": "ZURsOLEf0KWe"
      },
      "source": [
        "'''\n",
        "time_step = environment.reset()\n",
        "print(time_step)\n",
        "cumulative_reward = time_step.reward\n",
        "\n",
        "for _ in range(100):\n",
        "  time_step = environment.step(close_switch_action)\n",
        "  cumulative_reward += time_step.reward\n",
        "\n",
        "time_step = environment.step(open_switch_action)\n",
        "print(cumulative_reward)\n",
        "cumulative_reward += time_step.reward\n",
        "print('Final Reward =', cumulative_reward)\n",
        "'''"
      ],
      "execution_count": null,
      "outputs": []
    },
    {
      "cell_type": "code",
      "metadata": {
        "colab": {
          "base_uri": "https://localhost:8080/"
        },
        "id": "vYzbP10kHRrc",
        "outputId": "729286b4-eac1-4323-8a6c-e04ee7be0412"
      },
      "source": [
        "#Debugging Cell\n",
        "dummy_vector = np.zeros([10,]) +0.5\n",
        "print(dummy_vector)"
      ],
      "execution_count": null,
      "outputs": [
        {
          "output_type": "stream",
          "text": [
            "[0.5 0.5 0.5 0.5 0.5 0.5 0.5 0.5 0.5 0.5]\n"
          ],
          "name": "stdout"
        }
      ]
    },
    {
      "cell_type": "code",
      "metadata": {
        "colab": {
          "base_uri": "https://localhost:8080/"
        },
        "id": "gMwI5_HGIAzv",
        "outputId": "49945132-31ef-4957-a7e6-38de6a383173"
      },
      "source": [
        "#Debugging Cell\n",
        "time_step = environment.reset()\n",
        "print(time_step.observation + 1)"
      ],
      "execution_count": null,
      "outputs": [
        {
          "output_type": "stream",
          "text": [
            "[1.]\n"
          ],
          "name": "stdout"
        }
      ]
    },
    {
      "cell_type": "code",
      "metadata": {
        "id": "qExEIQFkg6YZ",
        "colab": {
          "base_uri": "https://localhost:8080/",
          "height": 415
        },
        "outputId": "60b01933-ec44-4d58-f699-e3b14a9c84c7"
      },
      "source": [
        "#Test having 50 close switch actions\n",
        "# and 50 non close switch actions\n",
        "time_step = environment.reset()\n",
        "print(time_step)\n",
        "cumulative_reward = time_step.reward\n",
        "total_reward = np.zeros([100,])\n",
        "input_vector = np.zeros([100,]) + 0.5\n",
        "output_vector = np.zeros([100,])\n",
        "time_vector = np.zeros([100,])\n",
        "\n",
        "for i in range(100):\n",
        "  time_vector[i] = i\n",
        "  if time_step.observation > 11:\n",
        "    time_step = environment.step(open_switch_action)\n",
        "    input_vector[i] = 1\n",
        "  else:\n",
        "    time_step = environment.step(close_switch_action)\n",
        "    input_vector[i] = 0\n",
        "  \n",
        "  #print(time_step)\n",
        "  total_reward[i] = time_step.reward\n",
        "  output_vector[i] = time_step.observation\n",
        "  cumulative_reward += time_step.reward\n",
        "\n",
        "#time_step = environment.step(open_switch_action)\n",
        "print(cumulative_reward)\n",
        "cumulative_reward += time_step.reward\n",
        "print('Final Reward =', cumulative_reward)\n",
        "\n",
        "#Plotting\n",
        "plt.figure(1)\n",
        "plt.plot(time_vector, output_vector)\n",
        "plt.plot(time_vector, total_reward)\n",
        "plt.plot(time_vector, input_vector)"
      ],
      "execution_count": null,
      "outputs": [
        {
          "output_type": "stream",
          "text": [
            "TimeStep(\n",
            "{'discount': array(1., dtype=float32),\n",
            " 'observation': array([0.], dtype=float32),\n",
            " 'reward': array(0., dtype=float32),\n",
            " 'step_type': array(0, dtype=int32)})\n",
            "53.095993\n",
            "Final Reward = 53.595993\n"
          ],
          "name": "stdout"
        },
        {
          "output_type": "execute_result",
          "data": {
            "text/plain": [
              "[<matplotlib.lines.Line2D at 0x7fdd32042fd0>]"
            ]
          },
          "metadata": {
            "tags": []
          },
          "execution_count": 32
        },
        {
          "output_type": "display_data",
          "data": {
            "image/png": "[encoded data removed]",
            "text/plain": [
              "<Figure size 432x288 with 1 Axes>"
            ]
          },
          "metadata": {
            "tags": [],
            "needs_background": "light"
          }
        }
      ]
    },
    {
      "cell_type": "code",
      "metadata": {
        "colab": {
          "base_uri": "https://localhost:8080/"
        },
        "id": "W_0Y5lixJq1Q",
        "outputId": "43517851-a10c-42c1-a5af-b74fd239ba7e"
      },
      "source": [
        "total_reward.mean()"
      ],
      "execution_count": null,
      "outputs": [
        {
          "output_type": "execute_result",
          "data": {
            "text/plain": [
              "0.5309599989652634"
            ]
          },
          "metadata": {
            "tags": []
          },
          "execution_count": 33
        }
      ]
    }
  ]
}